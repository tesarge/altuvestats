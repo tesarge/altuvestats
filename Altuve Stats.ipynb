{
 "cells": [
  {
   "cell_type": "markdown",
   "metadata": {},
   "source": [
    "# Is Jose Altuve a Cheater? A Look at the Numbers"
   ]
  },
  {
   "cell_type": "markdown",
   "metadata": {},
   "source": [
    "Many of us have gone back and watched countless Astros games to listen for the now infamous trash can bangs. We've seen the footage of Altuve taking extra precautions to hide an alleged buzzer device used to tip him on coming pitches. However, Altuve still maintins innocence. With the eyes and scrutiny of the baseball world on the Astros this season, it's safe to assume that no foul play will be going on this season. Assuming that the Astros are playing good, clean baseball this year, will the numbers reveal anything?\n",
    "\n",
    "What do I mean be that? Altuve has been on a hot streak as of late. The past few seasons he has been atop the baseball world with plenty of hits and homers to go around. I hypothesize that with the lack of any sort of indication regarding coming pitches, Altuve's batting numbers will have a noticeable dropoff this season. So without further ado, let's dive into some data.\n",
    "\n",
    "The data has been taken from Baseball Reference (https://www.baseball-reference.com/players/a/altuvjo01.shtml).\n",
    "I simply copy and pasted the Standard Batting chart into Excel and made a csv, which I have imported below."
   ]
  },
  {
   "cell_type": "code",
   "execution_count": 1,
   "metadata": {},
   "outputs": [],
   "source": [
    "import numpy as np\n",
    "import pandas as pd\n",
    "import matplotlib.pyplot as plt"
   ]
  },
  {
   "cell_type": "code",
   "execution_count": 2,
   "metadata": {},
   "outputs": [],
   "source": [
    "data = pd.read_csv('altuve.csv')"
   ]
  },
  {
   "cell_type": "code",
   "execution_count": 3,
   "metadata": {},
   "outputs": [
    {
     "name": "stdout",
     "output_type": "stream",
     "text": [
      "<class 'pandas.core.frame.DataFrame'>\n",
      "RangeIndex: 10 entries, 0 to 9\n",
      "Data columns (total 30 columns):\n",
      " #   Column  Non-Null Count  Dtype  \n",
      "---  ------  --------------  -----  \n",
      " 0   Year    10 non-null     int64  \n",
      " 1   Age     10 non-null     int64  \n",
      " 2   Tm      10 non-null     object \n",
      " 3   Lg      10 non-null     object \n",
      " 4   G       10 non-null     int64  \n",
      " 5   PA      10 non-null     int64  \n",
      " 6   AB      10 non-null     int64  \n",
      " 7   R       10 non-null     int64  \n",
      " 8   H       10 non-null     int64  \n",
      " 9   2B      10 non-null     int64  \n",
      " 10  3B      10 non-null     int64  \n",
      " 11  HR      10 non-null     int64  \n",
      " 12  RBI     10 non-null     int64  \n",
      " 13  SB      10 non-null     int64  \n",
      " 14  CS      10 non-null     int64  \n",
      " 15  BB      10 non-null     int64  \n",
      " 16  SO      10 non-null     int64  \n",
      " 17  BA      10 non-null     float64\n",
      " 18  OBP     10 non-null     float64\n",
      " 19  SLG     10 non-null     float64\n",
      " 20  OPS     10 non-null     float64\n",
      " 21  OPS+    10 non-null     int64  \n",
      " 22  TB      10 non-null     int64  \n",
      " 23  GDP     10 non-null     int64  \n",
      " 24  HBP     10 non-null     int64  \n",
      " 25  SH      10 non-null     int64  \n",
      " 26  SF      10 non-null     int64  \n",
      " 27  IBB     10 non-null     int64  \n",
      " 28  Pos     10 non-null     object \n",
      " 29  Awards  6 non-null      object \n",
      "dtypes: float64(4), int64(22), object(4)\n",
      "memory usage: 2.5+ KB\n"
     ]
    }
   ],
   "source": [
    "data.info()"
   ]
  },
  {
   "cell_type": "code",
   "execution_count": 4,
   "metadata": {},
   "outputs": [
    {
     "data": {
      "text/html": [
       "<div>\n",
       "<style scoped>\n",
       "    .dataframe tbody tr th:only-of-type {\n",
       "        vertical-align: middle;\n",
       "    }\n",
       "\n",
       "    .dataframe tbody tr th {\n",
       "        vertical-align: top;\n",
       "    }\n",
       "\n",
       "    .dataframe thead th {\n",
       "        text-align: right;\n",
       "    }\n",
       "</style>\n",
       "<table border=\"1\" class=\"dataframe\">\n",
       "  <thead>\n",
       "    <tr style=\"text-align: right;\">\n",
       "      <th></th>\n",
       "      <th>Year</th>\n",
       "      <th>Age</th>\n",
       "      <th>Tm</th>\n",
       "      <th>Lg</th>\n",
       "      <th>G</th>\n",
       "      <th>PA</th>\n",
       "      <th>AB</th>\n",
       "      <th>R</th>\n",
       "      <th>H</th>\n",
       "      <th>2B</th>\n",
       "      <th>...</th>\n",
       "      <th>OPS</th>\n",
       "      <th>OPS+</th>\n",
       "      <th>TB</th>\n",
       "      <th>GDP</th>\n",
       "      <th>HBP</th>\n",
       "      <th>SH</th>\n",
       "      <th>SF</th>\n",
       "      <th>IBB</th>\n",
       "      <th>Pos</th>\n",
       "      <th>Awards</th>\n",
       "    </tr>\n",
       "  </thead>\n",
       "  <tbody>\n",
       "    <tr>\n",
       "      <th>0</th>\n",
       "      <td>2011</td>\n",
       "      <td>21</td>\n",
       "      <td>HOU</td>\n",
       "      <td>NL</td>\n",
       "      <td>57</td>\n",
       "      <td>234</td>\n",
       "      <td>221</td>\n",
       "      <td>26</td>\n",
       "      <td>61</td>\n",
       "      <td>10</td>\n",
       "      <td>...</td>\n",
       "      <td>0.654</td>\n",
       "      <td>81</td>\n",
       "      <td>79</td>\n",
       "      <td>5</td>\n",
       "      <td>2</td>\n",
       "      <td>5</td>\n",
       "      <td>1</td>\n",
       "      <td>0</td>\n",
       "      <td>4/H</td>\n",
       "      <td>NaN</td>\n",
       "    </tr>\n",
       "    <tr>\n",
       "      <th>1</th>\n",
       "      <td>2012</td>\n",
       "      <td>22</td>\n",
       "      <td>HOU</td>\n",
       "      <td>NL</td>\n",
       "      <td>147</td>\n",
       "      <td>630</td>\n",
       "      <td>576</td>\n",
       "      <td>80</td>\n",
       "      <td>167</td>\n",
       "      <td>34</td>\n",
       "      <td>...</td>\n",
       "      <td>0.740</td>\n",
       "      <td>101</td>\n",
       "      <td>230</td>\n",
       "      <td>8</td>\n",
       "      <td>6</td>\n",
       "      <td>4</td>\n",
       "      <td>4</td>\n",
       "      <td>0</td>\n",
       "      <td>*4/H</td>\n",
       "      <td>AS</td>\n",
       "    </tr>\n",
       "    <tr>\n",
       "      <th>2</th>\n",
       "      <td>2013</td>\n",
       "      <td>23</td>\n",
       "      <td>HOU</td>\n",
       "      <td>AL</td>\n",
       "      <td>152</td>\n",
       "      <td>672</td>\n",
       "      <td>626</td>\n",
       "      <td>64</td>\n",
       "      <td>177</td>\n",
       "      <td>31</td>\n",
       "      <td>...</td>\n",
       "      <td>0.678</td>\n",
       "      <td>89</td>\n",
       "      <td>227</td>\n",
       "      <td>24</td>\n",
       "      <td>2</td>\n",
       "      <td>4</td>\n",
       "      <td>8</td>\n",
       "      <td>5</td>\n",
       "      <td>*4/D</td>\n",
       "      <td>NaN</td>\n",
       "    </tr>\n",
       "    <tr>\n",
       "      <th>3</th>\n",
       "      <td>2014</td>\n",
       "      <td>24</td>\n",
       "      <td>HOU</td>\n",
       "      <td>AL</td>\n",
       "      <td>158</td>\n",
       "      <td>707</td>\n",
       "      <td>660</td>\n",
       "      <td>85</td>\n",
       "      <td>225</td>\n",
       "      <td>47</td>\n",
       "      <td>...</td>\n",
       "      <td>0.830</td>\n",
       "      <td>135</td>\n",
       "      <td>299</td>\n",
       "      <td>20</td>\n",
       "      <td>5</td>\n",
       "      <td>1</td>\n",
       "      <td>5</td>\n",
       "      <td>7</td>\n",
       "      <td>*4/DH</td>\n",
       "      <td>AS,MVP-13,SS</td>\n",
       "    </tr>\n",
       "    <tr>\n",
       "      <th>4</th>\n",
       "      <td>2015</td>\n",
       "      <td>25</td>\n",
       "      <td>HOU</td>\n",
       "      <td>AL</td>\n",
       "      <td>154</td>\n",
       "      <td>689</td>\n",
       "      <td>638</td>\n",
       "      <td>86</td>\n",
       "      <td>200</td>\n",
       "      <td>40</td>\n",
       "      <td>...</td>\n",
       "      <td>0.812</td>\n",
       "      <td>125</td>\n",
       "      <td>293</td>\n",
       "      <td>17</td>\n",
       "      <td>9</td>\n",
       "      <td>3</td>\n",
       "      <td>6</td>\n",
       "      <td>8</td>\n",
       "      <td>*4/D</td>\n",
       "      <td>AS,MVP-10,GG,SS</td>\n",
       "    </tr>\n",
       "    <tr>\n",
       "      <th>5</th>\n",
       "      <td>2016</td>\n",
       "      <td>26</td>\n",
       "      <td>HOU</td>\n",
       "      <td>AL</td>\n",
       "      <td>161</td>\n",
       "      <td>717</td>\n",
       "      <td>640</td>\n",
       "      <td>108</td>\n",
       "      <td>216</td>\n",
       "      <td>42</td>\n",
       "      <td>...</td>\n",
       "      <td>0.928</td>\n",
       "      <td>155</td>\n",
       "      <td>340</td>\n",
       "      <td>15</td>\n",
       "      <td>7</td>\n",
       "      <td>3</td>\n",
       "      <td>7</td>\n",
       "      <td>11</td>\n",
       "      <td>*4D/H6</td>\n",
       "      <td>AS,MVP-3,SS</td>\n",
       "    </tr>\n",
       "    <tr>\n",
       "      <th>6</th>\n",
       "      <td>2017</td>\n",
       "      <td>27</td>\n",
       "      <td>HOU</td>\n",
       "      <td>AL</td>\n",
       "      <td>153</td>\n",
       "      <td>662</td>\n",
       "      <td>590</td>\n",
       "      <td>112</td>\n",
       "      <td>204</td>\n",
       "      <td>39</td>\n",
       "      <td>...</td>\n",
       "      <td>0.957</td>\n",
       "      <td>160</td>\n",
       "      <td>323</td>\n",
       "      <td>19</td>\n",
       "      <td>9</td>\n",
       "      <td>1</td>\n",
       "      <td>4</td>\n",
       "      <td>3</td>\n",
       "      <td>*4/DH</td>\n",
       "      <td>AS,MVP-1,SS</td>\n",
       "    </tr>\n",
       "    <tr>\n",
       "      <th>7</th>\n",
       "      <td>2018</td>\n",
       "      <td>28</td>\n",
       "      <td>HOU</td>\n",
       "      <td>AL</td>\n",
       "      <td>137</td>\n",
       "      <td>599</td>\n",
       "      <td>534</td>\n",
       "      <td>84</td>\n",
       "      <td>169</td>\n",
       "      <td>29</td>\n",
       "      <td>...</td>\n",
       "      <td>0.837</td>\n",
       "      <td>130</td>\n",
       "      <td>241</td>\n",
       "      <td>17</td>\n",
       "      <td>6</td>\n",
       "      <td>3</td>\n",
       "      <td>1</td>\n",
       "      <td>4</td>\n",
       "      <td>*4/DH</td>\n",
       "      <td>AS,MVP-13,SS</td>\n",
       "    </tr>\n",
       "    <tr>\n",
       "      <th>8</th>\n",
       "      <td>2019</td>\n",
       "      <td>29</td>\n",
       "      <td>HOU</td>\n",
       "      <td>AL</td>\n",
       "      <td>124</td>\n",
       "      <td>548</td>\n",
       "      <td>500</td>\n",
       "      <td>89</td>\n",
       "      <td>149</td>\n",
       "      <td>27</td>\n",
       "      <td>...</td>\n",
       "      <td>0.903</td>\n",
       "      <td>131</td>\n",
       "      <td>275</td>\n",
       "      <td>19</td>\n",
       "      <td>3</td>\n",
       "      <td>1</td>\n",
       "      <td>3</td>\n",
       "      <td>0</td>\n",
       "      <td>*4/DH6</td>\n",
       "      <td>NaN</td>\n",
       "    </tr>\n",
       "    <tr>\n",
       "      <th>9</th>\n",
       "      <td>2020</td>\n",
       "      <td>30</td>\n",
       "      <td>HOU</td>\n",
       "      <td>AL</td>\n",
       "      <td>35</td>\n",
       "      <td>155</td>\n",
       "      <td>143</td>\n",
       "      <td>23</td>\n",
       "      <td>32</td>\n",
       "      <td>5</td>\n",
       "      <td>...</td>\n",
       "      <td>0.606</td>\n",
       "      <td>63</td>\n",
       "      <td>46</td>\n",
       "      <td>5</td>\n",
       "      <td>1</td>\n",
       "      <td>0</td>\n",
       "      <td>0</td>\n",
       "      <td>0</td>\n",
       "      <td>*4</td>\n",
       "      <td>NaN</td>\n",
       "    </tr>\n",
       "  </tbody>\n",
       "</table>\n",
       "<p>10 rows × 30 columns</p>\n",
       "</div>"
      ],
      "text/plain": [
       "   Year  Age   Tm  Lg    G   PA   AB    R    H  2B  ...    OPS  OPS+   TB  \\\n",
       "0  2011   21  HOU  NL   57  234  221   26   61  10  ...  0.654    81   79   \n",
       "1  2012   22  HOU  NL  147  630  576   80  167  34  ...  0.740   101  230   \n",
       "2  2013   23  HOU  AL  152  672  626   64  177  31  ...  0.678    89  227   \n",
       "3  2014   24  HOU  AL  158  707  660   85  225  47  ...  0.830   135  299   \n",
       "4  2015   25  HOU  AL  154  689  638   86  200  40  ...  0.812   125  293   \n",
       "5  2016   26  HOU  AL  161  717  640  108  216  42  ...  0.928   155  340   \n",
       "6  2017   27  HOU  AL  153  662  590  112  204  39  ...  0.957   160  323   \n",
       "7  2018   28  HOU  AL  137  599  534   84  169  29  ...  0.837   130  241   \n",
       "8  2019   29  HOU  AL  124  548  500   89  149  27  ...  0.903   131  275   \n",
       "9  2020   30  HOU  AL   35  155  143   23   32   5  ...  0.606    63   46   \n",
       "\n",
       "   GDP  HBP  SH  SF  IBB     Pos           Awards  \n",
       "0    5    2   5   1    0     4/H              NaN  \n",
       "1    8    6   4   4    0    *4/H               AS  \n",
       "2   24    2   4   8    5    *4/D              NaN  \n",
       "3   20    5   1   5    7   *4/DH     AS,MVP-13,SS  \n",
       "4   17    9   3   6    8    *4/D  AS,MVP-10,GG,SS  \n",
       "5   15    7   3   7   11  *4D/H6      AS,MVP-3,SS  \n",
       "6   19    9   1   4    3   *4/DH      AS,MVP-1,SS  \n",
       "7   17    6   3   1    4   *4/DH     AS,MVP-13,SS  \n",
       "8   19    3   1   3    0  *4/DH6              NaN  \n",
       "9    5    1   0   0    0      *4              NaN  \n",
       "\n",
       "[10 rows x 30 columns]"
      ]
     },
     "execution_count": 4,
     "metadata": {},
     "output_type": "execute_result"
    }
   ],
   "source": [
    "data.head(10)"
   ]
  },
  {
   "cell_type": "markdown",
   "metadata": {},
   "source": [
    "Here we have Altuve's past ten seasons. The sign stealing was said to have been a major factor in 2017, and just to be safe, I'll go back a year before that. 2011 through 2015 will be removed."
   ]
  },
  {
   "cell_type": "code",
   "execution_count": 5,
   "metadata": {},
   "outputs": [],
   "source": [
    "altuve = data[data['Year']>2015]"
   ]
  },
  {
   "cell_type": "code",
   "execution_count": 6,
   "metadata": {},
   "outputs": [
    {
     "data": {
      "text/html": [
       "<div>\n",
       "<style scoped>\n",
       "    .dataframe tbody tr th:only-of-type {\n",
       "        vertical-align: middle;\n",
       "    }\n",
       "\n",
       "    .dataframe tbody tr th {\n",
       "        vertical-align: top;\n",
       "    }\n",
       "\n",
       "    .dataframe thead th {\n",
       "        text-align: right;\n",
       "    }\n",
       "</style>\n",
       "<table border=\"1\" class=\"dataframe\">\n",
       "  <thead>\n",
       "    <tr style=\"text-align: right;\">\n",
       "      <th></th>\n",
       "      <th>Year</th>\n",
       "      <th>Age</th>\n",
       "      <th>Tm</th>\n",
       "      <th>Lg</th>\n",
       "      <th>G</th>\n",
       "      <th>PA</th>\n",
       "      <th>AB</th>\n",
       "      <th>R</th>\n",
       "      <th>H</th>\n",
       "      <th>2B</th>\n",
       "      <th>...</th>\n",
       "      <th>OPS</th>\n",
       "      <th>OPS+</th>\n",
       "      <th>TB</th>\n",
       "      <th>GDP</th>\n",
       "      <th>HBP</th>\n",
       "      <th>SH</th>\n",
       "      <th>SF</th>\n",
       "      <th>IBB</th>\n",
       "      <th>Pos</th>\n",
       "      <th>Awards</th>\n",
       "    </tr>\n",
       "  </thead>\n",
       "  <tbody>\n",
       "    <tr>\n",
       "      <th>5</th>\n",
       "      <td>2016</td>\n",
       "      <td>26</td>\n",
       "      <td>HOU</td>\n",
       "      <td>AL</td>\n",
       "      <td>161</td>\n",
       "      <td>717</td>\n",
       "      <td>640</td>\n",
       "      <td>108</td>\n",
       "      <td>216</td>\n",
       "      <td>42</td>\n",
       "      <td>...</td>\n",
       "      <td>0.928</td>\n",
       "      <td>155</td>\n",
       "      <td>340</td>\n",
       "      <td>15</td>\n",
       "      <td>7</td>\n",
       "      <td>3</td>\n",
       "      <td>7</td>\n",
       "      <td>11</td>\n",
       "      <td>*4D/H6</td>\n",
       "      <td>AS,MVP-3,SS</td>\n",
       "    </tr>\n",
       "    <tr>\n",
       "      <th>6</th>\n",
       "      <td>2017</td>\n",
       "      <td>27</td>\n",
       "      <td>HOU</td>\n",
       "      <td>AL</td>\n",
       "      <td>153</td>\n",
       "      <td>662</td>\n",
       "      <td>590</td>\n",
       "      <td>112</td>\n",
       "      <td>204</td>\n",
       "      <td>39</td>\n",
       "      <td>...</td>\n",
       "      <td>0.957</td>\n",
       "      <td>160</td>\n",
       "      <td>323</td>\n",
       "      <td>19</td>\n",
       "      <td>9</td>\n",
       "      <td>1</td>\n",
       "      <td>4</td>\n",
       "      <td>3</td>\n",
       "      <td>*4/DH</td>\n",
       "      <td>AS,MVP-1,SS</td>\n",
       "    </tr>\n",
       "    <tr>\n",
       "      <th>7</th>\n",
       "      <td>2018</td>\n",
       "      <td>28</td>\n",
       "      <td>HOU</td>\n",
       "      <td>AL</td>\n",
       "      <td>137</td>\n",
       "      <td>599</td>\n",
       "      <td>534</td>\n",
       "      <td>84</td>\n",
       "      <td>169</td>\n",
       "      <td>29</td>\n",
       "      <td>...</td>\n",
       "      <td>0.837</td>\n",
       "      <td>130</td>\n",
       "      <td>241</td>\n",
       "      <td>17</td>\n",
       "      <td>6</td>\n",
       "      <td>3</td>\n",
       "      <td>1</td>\n",
       "      <td>4</td>\n",
       "      <td>*4/DH</td>\n",
       "      <td>AS,MVP-13,SS</td>\n",
       "    </tr>\n",
       "    <tr>\n",
       "      <th>8</th>\n",
       "      <td>2019</td>\n",
       "      <td>29</td>\n",
       "      <td>HOU</td>\n",
       "      <td>AL</td>\n",
       "      <td>124</td>\n",
       "      <td>548</td>\n",
       "      <td>500</td>\n",
       "      <td>89</td>\n",
       "      <td>149</td>\n",
       "      <td>27</td>\n",
       "      <td>...</td>\n",
       "      <td>0.903</td>\n",
       "      <td>131</td>\n",
       "      <td>275</td>\n",
       "      <td>19</td>\n",
       "      <td>3</td>\n",
       "      <td>1</td>\n",
       "      <td>3</td>\n",
       "      <td>0</td>\n",
       "      <td>*4/DH6</td>\n",
       "      <td>NaN</td>\n",
       "    </tr>\n",
       "    <tr>\n",
       "      <th>9</th>\n",
       "      <td>2020</td>\n",
       "      <td>30</td>\n",
       "      <td>HOU</td>\n",
       "      <td>AL</td>\n",
       "      <td>35</td>\n",
       "      <td>155</td>\n",
       "      <td>143</td>\n",
       "      <td>23</td>\n",
       "      <td>32</td>\n",
       "      <td>5</td>\n",
       "      <td>...</td>\n",
       "      <td>0.606</td>\n",
       "      <td>63</td>\n",
       "      <td>46</td>\n",
       "      <td>5</td>\n",
       "      <td>1</td>\n",
       "      <td>0</td>\n",
       "      <td>0</td>\n",
       "      <td>0</td>\n",
       "      <td>*4</td>\n",
       "      <td>NaN</td>\n",
       "    </tr>\n",
       "  </tbody>\n",
       "</table>\n",
       "<p>5 rows × 30 columns</p>\n",
       "</div>"
      ],
      "text/plain": [
       "   Year  Age   Tm  Lg    G   PA   AB    R    H  2B  ...    OPS  OPS+   TB  \\\n",
       "5  2016   26  HOU  AL  161  717  640  108  216  42  ...  0.928   155  340   \n",
       "6  2017   27  HOU  AL  153  662  590  112  204  39  ...  0.957   160  323   \n",
       "7  2018   28  HOU  AL  137  599  534   84  169  29  ...  0.837   130  241   \n",
       "8  2019   29  HOU  AL  124  548  500   89  149  27  ...  0.903   131  275   \n",
       "9  2020   30  HOU  AL   35  155  143   23   32   5  ...  0.606    63   46   \n",
       "\n",
       "   GDP  HBP  SH  SF  IBB     Pos        Awards  \n",
       "5   15    7   3   7   11  *4D/H6   AS,MVP-3,SS  \n",
       "6   19    9   1   4    3   *4/DH   AS,MVP-1,SS  \n",
       "7   17    6   3   1    4   *4/DH  AS,MVP-13,SS  \n",
       "8   19    3   1   3    0  *4/DH6           NaN  \n",
       "9    5    1   0   0    0      *4           NaN  \n",
       "\n",
       "[5 rows x 30 columns]"
      ]
     },
     "execution_count": 6,
     "metadata": {},
     "output_type": "execute_result"
    }
   ],
   "source": [
    "altuve"
   ]
  },
  {
   "cell_type": "markdown",
   "metadata": {},
   "source": [
    "There are a lot of columns here that are not relevant, so I am going to go through and delete the ones I don't need."
   ]
  },
  {
   "cell_type": "code",
   "execution_count": 7,
   "metadata": {},
   "outputs": [],
   "source": [
    "del altuve['Tm']\n",
    "del altuve['Lg']\n",
    "del altuve['Awards']\n",
    "del altuve['BB']\n",
    "del altuve['TB']\n",
    "del altuve['SB']\n",
    "del altuve['CS']\n",
    "del altuve['2B']\n",
    "del altuve['3B']\n",
    "del altuve['GDP']\n",
    "del altuve['HBP']\n",
    "del altuve['SH']\n",
    "del altuve['SF']\n",
    "del altuve['IBB']\n",
    "del altuve['Pos']\n",
    "del altuve['Age']\n",
    "del altuve['PA']\n",
    "del altuve['OPS+']"
   ]
  },
  {
   "cell_type": "code",
   "execution_count": 8,
   "metadata": {},
   "outputs": [
    {
     "data": {
      "text/html": [
       "<div>\n",
       "<style scoped>\n",
       "    .dataframe tbody tr th:only-of-type {\n",
       "        vertical-align: middle;\n",
       "    }\n",
       "\n",
       "    .dataframe tbody tr th {\n",
       "        vertical-align: top;\n",
       "    }\n",
       "\n",
       "    .dataframe thead th {\n",
       "        text-align: right;\n",
       "    }\n",
       "</style>\n",
       "<table border=\"1\" class=\"dataframe\">\n",
       "  <thead>\n",
       "    <tr style=\"text-align: right;\">\n",
       "      <th></th>\n",
       "      <th>Year</th>\n",
       "      <th>G</th>\n",
       "      <th>AB</th>\n",
       "      <th>R</th>\n",
       "      <th>H</th>\n",
       "      <th>HR</th>\n",
       "      <th>RBI</th>\n",
       "      <th>SO</th>\n",
       "      <th>BA</th>\n",
       "      <th>OBP</th>\n",
       "      <th>SLG</th>\n",
       "      <th>OPS</th>\n",
       "    </tr>\n",
       "  </thead>\n",
       "  <tbody>\n",
       "    <tr>\n",
       "      <th>5</th>\n",
       "      <td>2016</td>\n",
       "      <td>161</td>\n",
       "      <td>640</td>\n",
       "      <td>108</td>\n",
       "      <td>216</td>\n",
       "      <td>24</td>\n",
       "      <td>96</td>\n",
       "      <td>70</td>\n",
       "      <td>0.338</td>\n",
       "      <td>0.396</td>\n",
       "      <td>0.531</td>\n",
       "      <td>0.928</td>\n",
       "    </tr>\n",
       "    <tr>\n",
       "      <th>6</th>\n",
       "      <td>2017</td>\n",
       "      <td>153</td>\n",
       "      <td>590</td>\n",
       "      <td>112</td>\n",
       "      <td>204</td>\n",
       "      <td>24</td>\n",
       "      <td>81</td>\n",
       "      <td>84</td>\n",
       "      <td>0.346</td>\n",
       "      <td>0.410</td>\n",
       "      <td>0.547</td>\n",
       "      <td>0.957</td>\n",
       "    </tr>\n",
       "    <tr>\n",
       "      <th>7</th>\n",
       "      <td>2018</td>\n",
       "      <td>137</td>\n",
       "      <td>534</td>\n",
       "      <td>84</td>\n",
       "      <td>169</td>\n",
       "      <td>13</td>\n",
       "      <td>61</td>\n",
       "      <td>79</td>\n",
       "      <td>0.316</td>\n",
       "      <td>0.386</td>\n",
       "      <td>0.451</td>\n",
       "      <td>0.837</td>\n",
       "    </tr>\n",
       "    <tr>\n",
       "      <th>8</th>\n",
       "      <td>2019</td>\n",
       "      <td>124</td>\n",
       "      <td>500</td>\n",
       "      <td>89</td>\n",
       "      <td>149</td>\n",
       "      <td>31</td>\n",
       "      <td>74</td>\n",
       "      <td>82</td>\n",
       "      <td>0.298</td>\n",
       "      <td>0.353</td>\n",
       "      <td>0.550</td>\n",
       "      <td>0.903</td>\n",
       "    </tr>\n",
       "    <tr>\n",
       "      <th>9</th>\n",
       "      <td>2020</td>\n",
       "      <td>35</td>\n",
       "      <td>143</td>\n",
       "      <td>23</td>\n",
       "      <td>32</td>\n",
       "      <td>3</td>\n",
       "      <td>12</td>\n",
       "      <td>29</td>\n",
       "      <td>0.224</td>\n",
       "      <td>0.284</td>\n",
       "      <td>0.322</td>\n",
       "      <td>0.606</td>\n",
       "    </tr>\n",
       "  </tbody>\n",
       "</table>\n",
       "</div>"
      ],
      "text/plain": [
       "   Year    G   AB    R    H  HR  RBI  SO     BA    OBP    SLG    OPS\n",
       "5  2016  161  640  108  216  24   96  70  0.338  0.396  0.531  0.928\n",
       "6  2017  153  590  112  204  24   81  84  0.346  0.410  0.547  0.957\n",
       "7  2018  137  534   84  169  13   61  79  0.316  0.386  0.451  0.837\n",
       "8  2019  124  500   89  149  31   74  82  0.298  0.353  0.550  0.903\n",
       "9  2020   35  143   23   32   3   12  29  0.224  0.284  0.322  0.606"
      ]
     },
     "execution_count": 8,
     "metadata": {},
     "output_type": "execute_result"
    }
   ],
   "source": [
    "altuve"
   ]
  },
  {
   "cell_type": "markdown",
   "metadata": {},
   "source": [
    "So here we have a nice condensed chunk of data that should be enough for us to get a picture of Altuve's batting trends. \n",
    "\n",
    "The first thing I'm going to do is to calculate at-bats per game each season. Due to the shortened 2020 season, I want to make sure that the data will reflect his numbers with respect to this."
   ]
  },
  {
   "cell_type": "code",
   "execution_count": 9,
   "metadata": {},
   "outputs": [],
   "source": [
    "at_bats_per_ssn = np.array([altuve['AB']/altuve['G']])"
   ]
  },
  {
   "cell_type": "code",
   "execution_count": 10,
   "metadata": {},
   "outputs": [
    {
     "data": {
      "text/plain": [
       "array([[3.97515528, 3.85620915, 3.89781022, 4.03225806, 4.08571429]])"
      ]
     },
     "execution_count": 10,
     "metadata": {},
     "output_type": "execute_result"
    }
   ],
   "source": [
    "at_bats_per_ssn"
   ]
  },
  {
   "cell_type": "markdown",
   "metadata": {},
   "source": [
    "Already, the data is pretty interesting. Altuve has had more at-bats per game in 2020 than the four years before.\n",
    "\n",
    "Fortunately for the purpose of this analysis, the main metrics that I will be looking at, the Batting Average (BA) and On Base Percentage (OBP), are calculated based on games played as a whole, and shouldn't be affected too much by the length of the season.\n",
    "\n",
    "The next metric I'd like to look at is Strike Outs per game. Normally batters have less than one second to analyze a pitch from the pitcher releasing the ball to the ball crossing home. Knowing the pitch ahead of time, even if only by a few seconds, gives the batter plenty of time to prepare stance and swing. This obviously will help the batter get on base. Having to make a decision in less than one second raises the chances of missed swings and early/late swings resulting in foul balls. This significantly raises the chances of being struck out at home. \n",
    "\n",
    "Below I am going to compare the average strikeouts per game year over year."
   ]
  },
  {
   "cell_type": "code",
   "execution_count": 11,
   "metadata": {},
   "outputs": [],
   "source": [
    "strikes = np.array(altuve['SO']/altuve['G'])"
   ]
  },
  {
   "cell_type": "code",
   "execution_count": 12,
   "metadata": {},
   "outputs": [],
   "source": [
    "year = np.array(altuve['Year'])"
   ]
  },
  {
   "cell_type": "code",
   "execution_count": 13,
   "metadata": {},
   "outputs": [
    {
     "data": {
      "text/plain": [
       "array([0.43478261, 0.54901961, 0.57664234, 0.66129032, 0.82857143])"
      ]
     },
     "execution_count": 13,
     "metadata": {},
     "output_type": "execute_result"
    }
   ],
   "source": [
    "strikes"
   ]
  },
  {
   "cell_type": "code",
   "execution_count": 14,
   "metadata": {},
   "outputs": [
    {
     "data": {
      "text/plain": [
       "array([2016, 2017, 2018, 2019, 2020], dtype=int64)"
      ]
     },
     "execution_count": 14,
     "metadata": {},
     "output_type": "execute_result"
    }
   ],
   "source": [
    "year"
   ]
  },
  {
   "cell_type": "code",
   "execution_count": 15,
   "metadata": {},
   "outputs": [
    {
     "data": {
      "image/png": "[encoded data removed]",
      "text/plain": [
       "<Figure size 432x288 with 1 Axes>"
      ]
     },
     "metadata": {
      "needs_background": "light"
     },
     "output_type": "display_data"
    }
   ],
   "source": [
    "plt.plot(year, strikes, '-')\n",
    "plt.xlabel('Year')\n",
    "plt.ylabel('Strikeouts Per Game')\n",
    "plt.xticks(year)\n",
    "plt.show()"
   ]
  },
  {
   "cell_type": "markdown",
   "metadata": {},
   "source": [
    "The 2020 season is clearly a high mark for Altuve in terms of strikeouts per game. However, this data isn't showing a very strong correlation between this season and previous seasons as he has shown an uptrend in strikeouts per game year over year for the past five years. I'll need to find more supporting evidence.\n",
    "\n"
   ]
  },
  {
   "cell_type": "code",
   "execution_count": 16,
   "metadata": {},
   "outputs": [],
   "source": [
    "batting = np.array(altuve['BA'])"
   ]
  },
  {
   "cell_type": "code",
   "execution_count": 17,
   "metadata": {},
   "outputs": [
    {
     "data": {
      "image/png": "[encoded data removed]",
      "text/plain": [
       "<Figure size 432x288 with 1 Axes>"
      ]
     },
     "metadata": {
      "needs_background": "light"
     },
     "output_type": "display_data"
    }
   ],
   "source": [
    "plt.plot(year, batting, '-')\n",
    "plt.xlabel('Year')\n",
    "plt.ylabel('Batting Average')\n",
    "plt.xticks(year)\n",
    "plt.yticks(batting)\n",
    "plt.show()"
   ]
  },
  {
   "cell_type": "markdown",
   "metadata": {},
   "source": [
    "Here I looked at Altuve's batting average over five years. Despite having a downward trend since 2017, the big year for Astros cheating, I tihnk the drop off from 2019 to 2020 is quite telling. His batting average had a swing of .05 over the span of 3 seasons from 2017 to 2019. However, the .07 drop between 2019 and 2020, not even one season later, is indicative of a major change. \n",
    "\n",
    "Next I am going to do the same for On Base Percentage, though I expect that it will more or less follow the batting average trend. "
   ]
  },
  {
   "cell_type": "code",
   "execution_count": 18,
   "metadata": {},
   "outputs": [],
   "source": [
    "on_base = np.array(altuve['OBP'])"
   ]
  },
  {
   "cell_type": "code",
   "execution_count": 19,
   "metadata": {},
   "outputs": [
    {
     "data": {
      "text/plain": [
       "array([0.396, 0.41 , 0.386, 0.353, 0.284])"
      ]
     },
     "execution_count": 19,
     "metadata": {},
     "output_type": "execute_result"
    }
   ],
   "source": [
    "on_base\n"
   ]
  },
  {
   "cell_type": "code",
   "execution_count": 20,
   "metadata": {},
   "outputs": [
    {
     "data": {
      "image/png": "[encoded data removed]",
      "text/plain": [
       "<Figure size 432x288 with 1 Axes>"
      ]
     },
     "metadata": {
      "needs_background": "light"
     },
     "output_type": "display_data"
    }
   ],
   "source": [
    "plt.plot(year, on_base, '-')\n",
    "plt.xlabel('Year')\n",
    "plt.ylabel('On Base Percentage')\n",
    "plt.yticks(on_base)\n",
    "plt.xticks(year)\n",
    "plt.show()"
   ]
  },
  {
   "cell_type": "markdown",
   "metadata": {},
   "source": [
    "As expected, the OBP is nearly identical to the BAtting Average. This is due to OBP being the batting average plus walks and hits by pitches, which we can see in our very first table numbered in the single digits each season. \n",
    "\n",
    "The last metric I am going to take a look at is the OBS, the On Base Percentage + Slugging. OPS combines the metrics of the OBP with Slugging percentage, which quantifies the power of each on base hit (double, triple, homerun). This metric si key for this analysis because knowing the coming pitch can help the player determine how much power to put into each swing. Harder swings will result in better fielding, allowing batters to get closer to home. It also increases the chances of hitting a homerun."
   ]
  },
  {
   "cell_type": "code",
   "execution_count": 21,
   "metadata": {},
   "outputs": [
    {
     "data": {
      "image/png": "[encoded data removed]",
      "text/plain": [
       "<Figure size 432x288 with 1 Axes>"
      ]
     },
     "metadata": {
      "needs_background": "light"
     },
     "output_type": "display_data"
    }
   ],
   "source": [
    "on_base_slg = np.array(altuve['OPS'])\n",
    "\n",
    "plt.plot(year, on_base_slg, '-')\n",
    "plt.xlabel('Year')\n",
    "plt.ylabel('On Base + Slugging')\n",
    "plt.yticks(on_base_slg)\n",
    "plt.xticks(year)\n",
    "plt.show()"
   ]
  },
  {
   "cell_type": "markdown",
   "metadata": {},
   "source": [
    "Altuve's OPS shows a significant change that I believe can be a direct correlation to  or lack thereof. In the four seasons leading up to the revelation of the Astros cheating, Altuve's lowest OPS was at .837. In the 2020 season, it's .606. That's roughly a 25% drop in production from his weakest season of the past four years. However, he began to trend upwards in 2019, making it over .900. The difference between the 2019 and 2020 seasons is a drop in production of over 30%. \n",
    "\n",
    "I want to eliminate the possibility that his drop in production is due to more at-bats in the 2020 season. In 2019 he had 4.03 at bats per game and in 2020, 4.09. This is a difference of about 3 at bats per 100 games. The effect would be negligibile.  "
   ]
  },
  {
   "cell_type": "code",
   "execution_count": 36,
   "metadata": {},
   "outputs": [
    {
     "data": {
      "text/plain": [
       "(5    2016\n",
       " 6    2017\n",
       " 7    2018\n",
       " 8    2019\n",
       " 9    2020\n",
       " Name: Year, dtype: int64,\n",
       " 5    0.928\n",
       " 6    0.957\n",
       " 7    0.837\n",
       " 8    0.903\n",
       " 9    0.606\n",
       " Name: OPS, dtype: float64)"
      ]
     },
     "execution_count": 36,
     "metadata": {},
     "output_type": "execute_result"
    },
    {
     "data": {
      "image/png": "[encoded data removed]",
      "text/plain": [
       "<Figure size 432x288 with 1 Axes>"
      ]
     },
     "metadata": {
      "needs_background": "light"
     },
     "output_type": "display_data"
    }
   ],
   "source": [
    "plt.scatter(at_bats_per_ssn, on_base_slg)\n",
    "plt.xlabel('Avg At Bats Per Game')\n",
    "plt.ylabel('Season OPS')\n",
    "altuve['Year'],altuve['OPS']"
   ]
  },
  {
   "cell_type": "markdown",
   "metadata": {},
   "source": [
    "With this data, it becomes clear that Altuve's drop in production cannot be attributed to a couple extra at bats per 100 games. The difference is just too great for that to really be a factor.\n",
    "\n",
    "# Conclusion\n",
    "\n",
    "This analysis set out to see if Jose Altuve's production at bat would be noticeable between seasons in which he cheated and seasons in which he didn't cheat. The numbers and charts speak for themselves; in the popular at-bat production metrics, Altuve has seen a drop in production in the season following getting caught. \n",
    "\n",
    "My next analysis will be to see if I can determine which year the Astros and Altuve started cheating. To do this, I will likely examine Altuve's early years up through the seasons we know he cheated. I'll compare these to rookies from the same year, players with similar numbers to Altuve, and some other members of the Astros to see if I can find a sudden uptick in production that isn't noticeable in other players.\n",
    "\n",
    "This was my first independent anaylsis using sabermetrics, so it may be rough around the edges. I made this analysis as a learning experience. If you've made it this far, I appreciate your audience and would welcome any feedback you may have."
   ]
  },
  {
   "cell_type": "code",
   "execution_count": null,
   "metadata": {},
   "outputs": [],
   "source": []
  }
 ],
 "metadata": {
  "kernelspec": {
   "display_name": "Python 3",
   "language": "python",
   "name": "python3"
  },
  "language_info": {
   "codemirror_mode": {
    "name": "ipython",
    "version": 3
   },
   "file_extension": ".py",
   "mimetype": "text/x-python",
   "name": "python",
   "nbconvert_exporter": "python",
   "pygments_lexer": "ipython3",
   "version": "3.7.6"
  }
 },
 "nbformat": 4,
 "nbformat_minor": 4
}
